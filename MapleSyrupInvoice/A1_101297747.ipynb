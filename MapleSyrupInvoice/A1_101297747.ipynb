{
 "cells": [
  {
   "cell_type": "markdown",
   "id": "cfefba1d-c242-454c-ab76-59b58c58da87",
   "metadata": {
    "editable": true,
    "slideshow": {
     "slide_type": ""
    },
    "tags": []
   },
   "source": [
    "# BUSI2401 Assignment 1 "
   ]
  },
  {
   "cell_type": "markdown",
   "id": "21616b8a-d937-4557-b721-c6299b2c5014",
   "metadata": {},
   "source": [
    "__Name:__ Aisha Abdisamad <br>\n",
    " __Student ID:__ 101297747<br>\n",
    "__Section:__ E<br>"
   ]
  },
  {
   "cell_type": "code",
   "execution_count": 130,
   "id": "44b5e816-8c5c-4c56-8af6-2daf54bc6f83",
   "metadata": {},
   "outputs": [],
   "source": [
    "#decalre all the variables and dictionaries needed in the solution in the main function\n",
    "syrups = {'Extra Rare': 15.99, 'Great Harvest': 17.99, 'Late Harvest': 19.99}\n",
    "shipping = {'DHL Express': [19, 0.75, '5-7 business days'], 'FedEx Economy': [10, 0.5,'14-21 business days'],'FedEx Priority': [15, 0.5,'7-14 business days']}\n",
    "GST = 0.05"
   ]
  },
  {
   "cell_type": "markdown",
   "id": "c10fabc5-23c1-42e1-9fa6-add467f05778",
   "metadata": {},
   "source": [
    "### Define The checkInput(prompt) function"
   ]
  },
  {
   "cell_type": "code",
   "execution_count": 131,
   "id": "7ec6b379-baf1-4ef6-b585-a01fcc4a0c51",
   "metadata": {},
   "outputs": [],
   "source": [
    "def checkInput(prompt):\n",
    "    while True:\n",
    "        try:\n",
    "            choice = int(input(prompt))\n",
    "            return choice\n",
    "        except ValueError:\n",
    "            print(\"Invalid input. Please enter an integer.\")"
   ]
  },
  {
   "cell_type": "markdown",
   "id": "5b1bc174-f503-40c8-b0e6-7551b46d0ece",
   "metadata": {},
   "source": [
    "### Define The getOrder() function"
   ]
  },
  {
   "cell_type": "code",
   "execution_count": 132,
   "id": "0ffdbdf5-ae10-4812-b76c-64fc10c8f93d",
   "metadata": {},
   "outputs": [],
   "source": [
    "def getOrder():\n",
    "\n",
    "    order= {}\n",
    "    print('Hi Aisha, welcome to Escuminac Syrup!')\n",
    "    #use a for loop to loop through the syrup dictionary keys in order for the user to select how much of each they want then use the order dictionary to save the values the user enteres while the loop is running\n",
    "    for syrup in syrups.keys():\n",
    "        order[syrup] = checkInput(f'how many {syrup} do you want: ')   \n",
    "    print('We can deliver by: DHL Express, FedEx Economy, FedEx Priority!')\n",
    "    shipment = None\n",
    "    #use a for loop to loop through the options so that if the user selects N it will loop to the other option then end when the user selects a delivery options\n",
    "    #using the .key() function to check the keys of the shipping dictionary to see which option the user will choose\n",
    "    for shippping_method in shipping.keys():\n",
    "        shipping_choice = input(f'Do you want it shipped by {shippping_method}? Y/N: ')\n",
    "        if shipping_choice == 'Y':\n",
    "            shipment = shippping_method\n",
    "            break\n",
    "    #update the order dictionary to add the shiptment method\n",
    "    order['How'] = shipment\n",
    "    return order"
   ]
  },
  {
   "cell_type": "markdown",
   "id": "3d848bfd-7ed3-4281-beca-5af685b9492d",
   "metadata": {},
   "source": [
    "### Define The printInvoice(Order) function"
   ]
  },
  {
   "cell_type": "code",
   "execution_count": 133,
   "id": "00763f68-1f74-45df-969d-c029365653ee",
   "metadata": {},
   "outputs": [],
   "source": [
    "def printInvoice(order):\n",
    "    #output a message letting the user know their order\n",
    "    print('This is your order information')\n",
    "    print('You ordered: ')\n",
    "    # use a for loop to loop through the values and the keys of the order dictionary to list out what was selected\n",
    "    for key, value in order.items():\n",
    "        #use an if statement and the not equal operator to only print the first to third item in the dictionary if the key does not eqaul 'How'\n",
    "        if key != 'How':\n",
    "            print(f\"**** {value} bottles of {key}\")\n",
    "    #locates the shiptment method saved to the order dictionary by using the index location and the values dictionary method\n",
    "    shipment = list(order.values())[3]\n",
    "    print(f'Your syrup will be shipped by {shipment}')\n",
    "    subtotal = 0\n",
    "    #Use a for loop to iterate through the keys in the syrups dictionary then multiply the number of bottles orderedfrom the order dictionary \n",
    "    #by the syrup price from the syrups dictionary to calculate the subtotal.\n",
    "    for syrup in syrups:\n",
    "        subtotal += order[syrup] * syrups[syrup]\n",
    "    print(f'Subtotal: {subtotal:.2f}')\n",
    "    #set the variable below to the fixed base cost of the shipping method the user selected using both the shipping dictionary and the order dictionary \n",
    "    shipping_handeling = shipping[order['How']][0] \n",
    "    #use a for loop to iterate though the keys of the syrup dictionary to upate the shipping_handeling variable with the number of syrups multiplied by the variable cost\n",
    "    #The fixed cost was already saved in shipping_handeling, we are just updating it with the variable cost using the syrup, shipping and order dictionaries\n",
    "    for syrup in syrups.keys():\n",
    "        shipping_handeling += order[syrup]*shipping[order['How']][1]\n",
    "    print(f'Shipping & Handeling: {shipping_handeling:.2f}')\n",
    "    #calculate the tax on the order\n",
    "    order_gst = (subtotal+shipping_handeling)*GST\n",
    "    print(f'GST: {order_gst:.2f}')\n",
    "    #calculate the total\n",
    "    total = subtotal+shipping_handeling+order_gst\n",
    "    print(f'ORDER TOTAL: {total:.2f}')\n",
    "    #output an exit message with the number of days its gonna take to ship using the shipping and order dictionaries and the index of the delivery dates in the list under the shipping method in the shipping dictionary\n",
    "    expected_delivery = shipping[order['How']][2]\n",
    "    print(f'Thank you for shopping with us. You should expect to receive your delivery in {expected_delivery}')"
   ]
  },
  {
   "cell_type": "markdown",
   "id": "da45015f-8de6-4024-ae4f-657d174e28c4",
   "metadata": {},
   "source": [
    "### Define main() Funtion"
   ]
  },
  {
   "cell_type": "code",
   "execution_count": 137,
   "id": "11ebe3f1-786e-4628-9a72-d38b9c8a41b7",
   "metadata": {},
   "outputs": [],
   "source": [
    "def main():\n",
    "    order = getOrder()\n",
    "    printInvoice(order)"
   ]
  },
  {
   "cell_type": "markdown",
   "id": "b1063b9e-86ef-4094-850b-1bb05534d465",
   "metadata": {},
   "source": [
    "### Test All The Functions Below"
   ]
  },
  {
   "cell_type": "code",
   "execution_count": 143,
   "id": "d2f68980-be98-486d-bf0c-cf4853b68db3",
   "metadata": {},
   "outputs": [
    {
     "name": "stdout",
     "output_type": "stream",
     "text": [
      "Hi Aisha, welcome to Escuminac Syrup!\n"
     ]
    },
    {
     "name": "stdin",
     "output_type": "stream",
     "text": [
      "how many Extra Rare do you want:  10\n",
      "how many Great Harvest do you want:  2.5\n"
     ]
    },
    {
     "name": "stdout",
     "output_type": "stream",
     "text": [
      "Invalid input. Please enter an integer.\n"
     ]
    },
    {
     "name": "stdin",
     "output_type": "stream",
     "text": [
      "how many Great Harvest do you want:  six\n"
     ]
    },
    {
     "name": "stdout",
     "output_type": "stream",
     "text": [
      "Invalid input. Please enter an integer.\n"
     ]
    },
    {
     "name": "stdin",
     "output_type": "stream",
     "text": [
      "how many Great Harvest do you want:  4\n",
      "how many Late Harvest do you want:  7\n"
     ]
    },
    {
     "name": "stdout",
     "output_type": "stream",
     "text": [
      "We can deliver by: DHL Express, FedEx Economy, FedEx Priority!\n"
     ]
    },
    {
     "name": "stdin",
     "output_type": "stream",
     "text": [
      "Do you want it shipped by DHL Express? Y/N:  N\n",
      "Do you want it shipped by FedEx Economy? Y/N:  Y\n"
     ]
    },
    {
     "name": "stdout",
     "output_type": "stream",
     "text": [
      "This is your order information\n",
      "You ordered: \n",
      "**** 10 bottles of Extra Rare\n",
      "**** 4 bottles of Great Harvest\n",
      "**** 7 bottles of Late Harvest\n",
      "Your syrup will be shipped by FedEx Economy\n",
      "Subtotal: 371.79\n",
      "Shipping & Handeling: 20.50\n",
      "GST: 19.61\n",
      "ORDER TOTAL: 411.90\n",
      "Thank you for shopping with us. You should expect to receive your delivery in 14-21 business days\n"
     ]
    }
   ],
   "source": [
    "#Test the main() function\n",
    "main()"
   ]
  },
  {
   "cell_type": "code",
   "execution_count": 144,
   "id": "777de33f-4b13-4720-9b16-aabfd7652924",
   "metadata": {},
   "outputs": [
    {
     "name": "stdout",
     "output_type": "stream",
     "text": [
      "Hi Aisha, welcome to Escuminac Syrup!\n"
     ]
    },
    {
     "name": "stdin",
     "output_type": "stream",
     "text": [
      "how many Extra Rare do you want:  10\n",
      "how many Great Harvest do you want:  4\n",
      "how many Late Harvest do you want:  7\n"
     ]
    },
    {
     "name": "stdout",
     "output_type": "stream",
     "text": [
      "We can deliver by: DHL Express, FedEx Economy, FedEx Priority!\n"
     ]
    },
    {
     "name": "stdin",
     "output_type": "stream",
     "text": [
      "Do you want it shipped by DHL Express? Y/N:  N\n",
      "Do you want it shipped by FedEx Economy? Y/N:  Y\n"
     ]
    },
    {
     "data": {
      "text/plain": [
       "{'Extra Rare': 10,\n",
       " 'Great Harvest': 4,\n",
       " 'Late Harvest': 7,\n",
       " 'How': 'FedEx Economy'}"
      ]
     },
     "execution_count": 144,
     "metadata": {},
     "output_type": "execute_result"
    }
   ],
   "source": [
    "#Test the getOrder() function\n",
    "order = getOrder()\n",
    "order"
   ]
  },
  {
   "cell_type": "code",
   "execution_count": 145,
   "id": "b6b20ab4-ea81-40c4-bb17-7c62368abeb3",
   "metadata": {},
   "outputs": [
    {
     "name": "stdout",
     "output_type": "stream",
     "text": [
      "This is your order information\n",
      "You ordered: \n",
      "**** 10 bottles of Extra Rare\n",
      "**** 4 bottles of Great Harvest\n",
      "**** 7 bottles of Late Harvest\n",
      "Your syrup will be shipped by FedEx Economy\n",
      "Subtotal: 371.79\n",
      "Shipping & Handeling: 20.50\n",
      "GST: 19.61\n",
      "ORDER TOTAL: 411.90\n",
      "Thank you for shopping with us. You should expect to receive your delivery in 14-21 business days\n"
     ]
    }
   ],
   "source": [
    "#Test the printInvoice(order) function\n",
    "printInvoice(order)"
   ]
  },
  {
   "cell_type": "markdown",
   "id": "3728b533-ed27-49d2-a74f-22df73dd145a",
   "metadata": {
    "editable": true,
    "slideshow": {
     "slide_type": ""
    },
    "tags": []
   },
   "source": [
    "# Thank You!"
   ]
  }
 ],
 "metadata": {
  "kernelspec": {
   "display_name": "Python 3 (ipykernel)",
   "language": "python",
   "name": "python3"
  },
  "language_info": {
   "codemirror_mode": {
    "name": "ipython",
    "version": 3
   },
   "file_extension": ".py",
   "mimetype": "text/x-python",
   "name": "python",
   "nbconvert_exporter": "python",
   "pygments_lexer": "ipython3",
   "version": "3.12.7"
  }
 },
 "nbformat": 4,
 "nbformat_minor": 5
}
